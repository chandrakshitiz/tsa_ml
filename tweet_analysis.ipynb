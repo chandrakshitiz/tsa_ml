{
 "cells": [
  {
   "cell_type": "code",
   "execution_count": 1,
   "metadata": {},
   "outputs": [],
   "source": [
    "#Here all imports will be done\n",
    "from nltk.corpus import twitter_samples"
   ]
  },
  {
   "cell_type": "code",
   "execution_count": 15,
   "metadata": {},
   "outputs": [
    {
     "name": "stdout",
     "output_type": "stream",
     "text": [
      "Some Positive tweets :\n",
      "1 -  #FollowFriday @France_Inte @PKuchly57 @Milipol_Paris for being top engaged members in my community this week :)\n",
      "2 -  @Lamb2ja Hey James! How odd :/ Please call our Contact Centre on 02392441234 and we will be able to assist you :) Many thanks!\n",
      "3 -  @DespiteOfficial we had a listen last night :) As You Bleed is an amazing track. When are you in Scotland?!\n",
      "4 -  @97sides CONGRATS :)\n",
      "5 -  yeaaaah yippppy!!!  my accnt verified rqst has succeed got a blue tick mark on my fb profile :) in 15 days\n",
      "\n",
      "Some Negative tweets :\n",
      "1 -  hopeless for tmr :(\n",
      "2 -  Everything in the kids section of IKEA is so cute. Shame I'm nearly 19 in 2 months :(\n",
      "3 -  @Hegelbon That heart sliding into the waste basket. :(\n",
      "4 -  “@ketchBurning: I hate Japanese call him \"bani\" :( :(”\n",
      "\n",
      "Me too\n",
      "5 -  Dang starting next week I have \"work\" :(\n",
      "\n",
      "Total Positive tweets = 5000\n",
      "Total Negative tweets = 5000\n"
     ]
    }
   ],
   "source": [
    "#Importing Dataset\n",
    "pos_tweets=twitter_samples.strings('positive_tweets.json')\n",
    "neg_tweets=twitter_samples.strings('negative_tweets.json')\n",
    "print(\"Some Positive tweets :\")\n",
    "for i in range(5):\n",
    "    print(i+1,\"- \",pos_tweets[i])\n",
    "print()\n",
    "print(\"Some Negative tweets :\")\n",
    "for i in range(5):\n",
    "    print(i+1,\"- \",neg_tweets[i])\n",
    "print()\n",
    "print(\"Total Positive tweets =\",len(pos_tweets))\n",
    "print(\"Total Negative tweets =\",len(neg_tweets))"
   ]
  },
  {
   "cell_type": "code",
   "execution_count": null,
   "metadata": {},
   "outputs": [],
   "source": []
  }
 ],
 "metadata": {
  "kernelspec": {
   "display_name": "Python 3",
   "language": "python",
   "name": "python3"
  },
  "language_info": {
   "codemirror_mode": {
    "name": "ipython",
    "version": 3
   },
   "file_extension": ".py",
   "mimetype": "text/x-python",
   "name": "python",
   "nbconvert_exporter": "python",
   "pygments_lexer": "ipython3",
   "version": "3.8.3"
  }
 },
 "nbformat": 4,
 "nbformat_minor": 4
}
